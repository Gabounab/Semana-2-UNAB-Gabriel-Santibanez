{
 "cells": [
  {
   "cell_type": "markdown",
   "metadata": {},
   "source": [
    "<center>\n",
    "    <img src=\"https://cf-courses-data.s3.us.cloud-object-storage.appdomain.cloud/IBMDeveloperSkillsNetwork-DS0105EN-SkillsNetwork/labs/Module2/images/SN_web_lightmode.png\" width=\"300\" alt=\"cognitiveclass.ai logo\">\n",
    "</center>\n"
   ]
  },
  {
   "cell_type": "markdown",
   "metadata": {},
   "source": [
    "# \"Data Science Tools and Ecosystem\""
   ]
  },
  {
   "cell_type": "markdown",
   "metadata": {},
   "source": [
    "Este ecosistema permite a los científicos de datos trabajar de manera eficiente y colaborativa en todas las etapas del flujo de trabajo, desde la recopilación de datos hasta la visualización e implementación de modelos."
   ]
  },
  {
   "cell_type": "markdown",
   "metadata": {},
   "source": [
    "**Objetivos:**\n",
    "- Obtener una visión general de las celdas de código y markdown\n",
    "- Ejecutar una celda de código existente\n",
    "- Insertar y eliminar una celda de código\n",
    "- Escribir comentarios en Python\n",
    "- Crear y utilizar celdas Markdown "
   ]
  },
  {
   "cell_type": "markdown",
   "metadata": {},
   "source": [
    "# Algunos lenguajes populares de Programación de datos son:\n",
    "    - Pitón\n",
    "    - R\n",
    "    - SQL\n",
    "    - Julia"
   ]
  },
  {
   "attachments": {},
   "cell_type": "markdown",
   "metadata": {},
   "source": [
    "# Algunas librerias comunmente usadas son:\n",
    "    - Scikit-learn\n",
    "    - TensorFlow\n",
    "    - Matplotlib"
   ]
  },
  {
   "cell_type": "markdown",
   "metadata": {},
   "source": [
    "|Data Science Tool  |\n",
    "|-------------------|\n",
    "|JupyterLab         |\n",
    "|VS Code            |\n",
    "|Google Colaboratory|"
   ]
  },
  {
   "cell_type": "markdown",
   "metadata": {},
   "source": [
    "### Ejemplos de expresiones arisméticas en Python:\n",
    "    - 10+7\n",
    "    - 15-5\n",
    "    - 24+2\n",
    "    - 20/6"
   ]
  },
  {
   "cell_type": "code",
   "execution_count": 2,
   "metadata": {},
   "outputs": [
    {
     "name": "stdout",
     "output_type": "stream",
     "text": [
      "Resultado: 17\n"
     ]
    }
   ],
   "source": [
    "# Esta es una expresión aritmética simple que multiplica y luego suma enteros\n",
    "resultado = (3 * 4) + 5\n",
    "print(\"Resultado:\", resultado)"
   ]
  },
  {
   "cell_type": "code",
   "execution_count": 3,
   "metadata": {},
   "outputs": [
    {
     "name": "stdout",
     "output_type": "stream",
     "text": [
      "200 minutos equivalen a 3.3333333333333335 horas\n"
     ]
    }
   ],
   "source": [
    "# Esta expresión convierte minutos a horas dividiendo entre 60\n",
    "minutos = 200\n",
    "horas = minutos / 60\n",
    "print(f\"{minutos} minutos equivalen a {horas} horas\")"
   ]
  },
  {
   "attachments": {},
   "cell_type": "markdown",
   "metadata": {},
   "source": [
    "## Nombre del Autor\n",
    "GABRIEL SANTIBAÑEZ VELASQUEZ"
   ]
  },
  {
   "cell_type": "code",
   "execution_count": null,
   "metadata": {},
   "outputs": [],
   "source": []
  }
 ],
 "metadata": {
  "kernelspec": {
   "display_name": "Python 3 (ipykernel)",
   "language": "python",
   "name": "python3"
  },
  "language_info": {
   "codemirror_mode": {
    "name": "ipython",
    "version": 3
   },
   "file_extension": ".py",
   "mimetype": "text/x-python",
   "name": "python",
   "nbconvert_exporter": "python",
   "pygments_lexer": "ipython3",
   "version": "3.11.9"
  }
 },
 "nbformat": 4,
 "nbformat_minor": 4
}
