{
 "cells": [
  {
   "cell_type": "markdown",
   "id": "91176539-4ab8-4ebd-9f7b-d1351e66b826",
   "metadata": {},
   "source": [
    "# \"Data Science Tools and Ecosystem\""
   ]
  },
  {
   "cell_type": "markdown",
   "id": "3644858a-1c23-4a1b-aecf-6e738d3deb30",
   "metadata": {},
   "source": [
    "\"Este ecosistema permite a los científicos de datos trabajar de manera eficiente y colaborativa en todas las etapas del flujo de trabajo, desde la recopilación de datos hasta la visualización e implementación de modelos.\""
   ]
  },
  {
   "cell_type": "markdown",
   "id": "bb0fa956-6132-4169-b8c3-93253246f71e",
   "metadata": {},
   "source": [
    "**Objetivos:**\n",
    "- Obtener una visión general de las celdas de código y markdown  \n",
    "- Ejecutar una celda de código existente  \n",
    "- Insertar y eliminar una celda de código  \n",
    "- Escribir comentarios en Python  \n",
    "- Crear y utilizar celdas Markdown  "
   ]
  },
  {
   "cell_type": "markdown",
   "id": "a19eb557-72e6-4a19-a57b-e57f05a672ec",
   "metadata": {},
   "source": [
    "# Algunos lenguajes populares de Programación de datos son:\n",
    "- Pitón\n",
    "- R\n",
    "- SQL\n",
    "- Julia"
   ]
  },
  {
   "cell_type": "markdown",
   "id": "7efc10be-cf3f-4508-bb69-899b3db1c00c",
   "metadata": {},
   "source": [
    "# Algunas librerias comunmente usadas son:\n",
    "- Scikit-learn\n",
    "- TensorFlow\n",
    "- Matplotlib"
   ]
  },
  {
   "cell_type": "markdown",
   "id": "5fc1288b-311c-40cd-a77b-f3e7f423baaa",
   "metadata": {},
   "source": [
    "|Data Science Tool  |\n",
    "|-------------------|\n",
    "|JupyterLab         |\n",
    "|VS Code            |\n",
    "|Google Colaboratory|"
   ]
  },
  {
   "cell_type": "markdown",
   "id": "e6ece2c2-df25-4ae9-8851-22ece9f2b168",
   "metadata": {},
   "source": [
    "### Ejemplos de expresiones arisméticas en Python\n",
    "10+7\n",
    "15-5\n",
    "24+2\n",
    "20/6"
   ]
  },
  {
   "cell_type": "code",
   "execution_count": 1,
   "id": "926787a5-99a6-48e0-847a-46fb69952e4f",
   "metadata": {},
   "outputs": [
    {
     "name": "stdout",
     "output_type": "stream",
     "text": [
      "Resultado: 17\n"
     ]
    }
   ],
   "source": [
    "# Esta es una expresión aritmética simple que multiplica y luego suma enteros\n",
    "resultado = (3 * 4) + 5\n",
    "print(\"Resultado:\", resultado)"
   ]
  },
  {
   "cell_type": "code",
   "execution_count": 2,
   "id": "67ddc008-0c70-48a4-ba7f-408becae21c8",
   "metadata": {},
   "outputs": [
    {
     "name": "stdout",
     "output_type": "stream",
     "text": [
      "200 minutos equivalen a 3.3333333333333335 horas\n"
     ]
    }
   ],
   "source": [
    "# Esta expresión convierte minutos a horas dividiendo entre 60\n",
    "minutos = 200\n",
    "horas = minutos / 60\n",
    "print(f\"{minutos} minutos equivalen a {horas} horas\")"
   ]
  },
  {
   "cell_type": "markdown",
   "id": "9725b101-e346-4d1b-badc-f96880cca601",
   "metadata": {},
   "source": [
    "## Nombre del Autor\n",
    "GABRIEL SANTIBAÑEZ VELASQUEZ\n",
    "\n"
   ]
  }
 ],
 "metadata": {
  "kernelspec": {
   "display_name": "Python 3 (ipykernel)",
   "language": "python",
   "name": "python3"
  },
  "language_info": {
   "codemirror_mode": {
    "name": "ipython",
    "version": 3
   },
   "file_extension": ".py",
   "mimetype": "text/x-python",
   "name": "python",
   "nbconvert_exporter": "python",
   "pygments_lexer": "ipython3",
   "version": "3.13.0"
  }
 },
 "nbformat": 4,
 "nbformat_minor": 5
}
