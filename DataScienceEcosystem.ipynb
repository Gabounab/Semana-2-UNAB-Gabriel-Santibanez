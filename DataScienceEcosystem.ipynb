{
 "cells": [
  {
   "cell_type": "markdown",
   "id": "153fe1a7-6ae9-40fd-a115-157b8fb95635",
   "metadata": {},
   "source": [
    "# \"Data Science Tools and Ecosystem\""
   ]
  },
  {
   "cell_type": "markdown",
   "id": "1a4d226d-bba8-4fdb-a407-99aae5e1664d",
   "metadata": {},
   "source": [
    "Este ecosistema permite a los científicos de datos trabajar de manera eficiente y colaborativa en todas las etapas del flujo de trabajo, desde la recopilación de datos hasta la visualización e implementación de modelos."
   ]
  },
  {
   "cell_type": "markdown",
   "id": "1081d943-552f-4c9e-8d71-97b8846339d3",
   "metadata": {},
   "source": [
    "**Objetivos:**\n",
    "- Obtener una visión general de las celdas de código y markdown\n",
    "- Ejecutar una celda de código existente\n",
    "- Insertar y eliminar una celda de código\n",
    "- Escribir comentarios en Python\n",
    "- Crear y utilizar celdas Markdown "
   ]
  },
  {
   "cell_type": "markdown",
   "id": "29dfb233-09f1-4449-bc03-dec7a8c8cd30",
   "metadata": {},
   "source": [
    "# Algunos lenguajes populares de Programación de datos son:\n",
    "    - Pitón\n",
    "    - R\n",
    "    - SQL\n",
    "    - Julia"
   ]
  },
  {
   "cell_type": "markdown",
   "id": "bd5369b2-2866-4b8e-8cb6-329b02e0a222",
   "metadata": {},
   "source": [
    "# Algunas librerias comunmente usadas son:\n",
    "    - Scikit-learn\n",
    "    - TensorFlow\n",
    "    - Matplotlib"
   ]
  },
  {
   "cell_type": "markdown",
   "id": "f92b9c7b-c903-4a5b-826a-649ad31f3df8",
   "metadata": {},
   "source": [
    "|Data Science Tool  |\n",
    "|-------------------|\n",
    "|JupyterLab         |\n",
    "|VS Code            |\n",
    "|Google Colaboratory|"
   ]
  },
  {
   "cell_type": "markdown",
   "id": "9e491c09-8590-4904-b023-51cdfc3679c9",
   "metadata": {},
   "source": [
    "### Ejemplos de expresiones arisméticas en Python:\n",
    "    - 10+7\n",
    "    - 15-5\n",
    "    - 24+2\n",
    "    - 20/6"
   ]
  },
  {
   "cell_type": "code",
   "execution_count": 3,
   "id": "611aa428-47c4-4221-a739-3da70e1aedee",
   "metadata": {},
   "outputs": [
    {
     "name": "stdout",
     "output_type": "stream",
     "text": [
      "Resultado: 17\n"
     ]
    }
   ],
   "source": [
    "# Esta es una expresión aritmética simple que multiplica y luego suma enteros\n",
    "resultado = (3 * 4) + 5\n",
    "print(\"Resultado:\", resultado)"
   ]
  },
  {
   "cell_type": "code",
   "execution_count": 4,
   "id": "719cd0dc-6adf-45d6-b0b6-a4ff0fa200f4",
   "metadata": {},
   "outputs": [
    {
     "name": "stdout",
     "output_type": "stream",
     "text": [
      "200 minutos equivalen a 3.3333333333333335 horas\n"
     ]
    }
   ],
   "source": [
    "# Esta expresión convierte minutos a horas dividiendo entre 60\n",
    "minutos = 200\n",
    "horas = minutos / 60\n",
    "print(f\"{minutos} minutos equivalen a {horas} horas\")"
   ]
  },
  {
   "cell_type": "markdown",
   "id": "60efc9d7-ec24-4fdf-8d4d-3728ae735c73",
   "metadata": {},
   "source": [
    "## Nombre del Autor\n",
    "GABRIEL SANTIBAÑEZ VELASQUEZ"
   ]
  }
 ],
 "metadata": {
  "kernelspec": {
   "display_name": "Python 3 (ipykernel)",
   "language": "python",
   "name": "python3"
  },
  "language_info": {
   "codemirror_mode": {
    "name": "ipython",
    "version": 3
   },
   "file_extension": ".py",
   "mimetype": "text/x-python",
   "name": "python",
   "nbconvert_exporter": "python",
   "pygments_lexer": "ipython3",
   "version": "3.13.0"
  }
 },
 "nbformat": 4,
 "nbformat_minor": 5
}
